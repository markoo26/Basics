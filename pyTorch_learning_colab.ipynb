{
  "nbformat": 4,
  "nbformat_minor": 0,
  "metadata": {
    "colab": {
      "provenance": [],
      "authorship_tag": "ABX9TyNeOyRUko3IbPyzDVckdfmE",
      "include_colab_link": true
    },
    "kernelspec": {
      "name": "python3",
      "display_name": "Python 3"
    },
    "language_info": {
      "name": "python"
    }
  },
  "cells": [
    {
      "cell_type": "markdown",
      "metadata": {
        "id": "view-in-github",
        "colab_type": "text"
      },
      "source": [
        "<a href=\"https://colab.research.google.com/github/markoo26/Basics/blob/master/pyTorch_learning_colab.ipynb\" target=\"_parent\"><img src=\"https://colab.research.google.com/assets/colab-badge.svg\" alt=\"Open In Colab\"/></a>"
      ]
    },
    {
      "cell_type": "code",
      "execution_count": 8,
      "metadata": {
        "id": "rXlIh_ZPtY-x"
      },
      "outputs": [],
      "source": [
        "import torch\n",
        "import numpy as np"
      ]
    },
    {
      "cell_type": "code",
      "source": [
        "basic_tensor = torch.tensor([1,2,3,4])\n",
        "basic_matrix = torch.tensor ([[2,4], [6,8]])\n",
        "basic_3d_tensor = torch.arange(16.0).reshape(2, 2, 4)\n",
        "basic_np_array = np.array([1,2,3,4])"
      ],
      "metadata": {
        "id": "JYoVJKLwtenc"
      },
      "execution_count": 63,
      "outputs": []
    },
    {
      "cell_type": "code",
      "source": [
        "COMMANDS = ['torch.is_tensor', 'torch.is_complex', 'torch.is_floating_point',\n",
        "            'torch.numel', 'torch.zeros', 'torch.zeros_like', 'torch.ones', 'torch.ones_like',\n",
        "            'torch.arange', 'torch.range', 'torch.linspace', 'torch.logspace',\n",
        "            'torch.eye', 'torch.empty', 'torch.full', 'torch.argwhere', 'torch.cat',\n",
        "            'torch.stack', 'torch.chunk', 'torch.dsplit', 'torch.column_stack',\n",
        "            'torch.dstack', 'torch.gather', 'torch.hsplit', 'torch.hstack', 'torch.ge',\n",
        "            'torch.masked_select', 'torch.movedim', 'torch_narrow', 'torch.permute']\n",
        "\n",
        "print(f\"Learnt commands [{len(COMMANDS)}]:\")\n",
        "for command in COMMANDS:\n",
        "  print(command)"
      ],
      "metadata": {
        "colab": {
          "base_uri": "https://localhost:8080/"
        },
        "id": "6sZzNtgIt6jP",
        "outputId": "e90a8c1e-fc97-487e-e830-5ebbe5243ff4"
      },
      "execution_count": 89,
      "outputs": [
        {
          "output_type": "stream",
          "name": "stdout",
          "text": [
            "Learnt commands [30]:\n",
            "torch.is_tensor\n",
            "torch.is_complex\n",
            "torch.is_floating_point\n",
            "torch.numel\n",
            "torch.zeros\n",
            "torch.zeros_like\n",
            "torch.ones\n",
            "torch.ones_like\n",
            "torch.arange\n",
            "torch.range\n",
            "torch.linspace\n",
            "torch.logspace\n",
            "torch.eye\n",
            "torch.empty\n",
            "torch.full\n",
            "torch.argwhere\n",
            "torch.cat\n",
            "torch.stack\n",
            "torch.chunk\n",
            "torch.dsplit\n",
            "torch.column_stack\n",
            "torch.dstack\n",
            "torch.gather\n",
            "torch.hsplit\n",
            "torch.hstack\n",
            "torch.ge\n",
            "torch.masked_select\n",
            "torch.movedim\n",
            "torch_narrow\n",
            "torch.permute\n"
          ]
        }
      ]
    },
    {
      "cell_type": "code",
      "source": [
        "torch.is_tensor(basic_tensor)\n",
        "torch.is_tensor(basic_np_array)\n",
        "\n",
        "torch.is_complex(basic_tensor)\n",
        "torch.is_floating_point(basic_tensor)\n",
        "torch.numel(basic_tensor)\n",
        "torch.zeros(10)\n",
        "torch.zeros_like(basic_tensor)\n",
        "torch.ones_like(basic_tensor)\n",
        "torch.arange(1,10,1)\n",
        "torch.range(1,10,1)\n",
        "torch.linspace(0, 20, 7)\n",
        "torch.logspace(0, 20, 7)\n",
        "torch.eye(4)\n",
        "torch.empty((3,3))\n",
        "torch.full((3,3), 3)\n",
        "torch.argwhere(torch.zeros(10))\n",
        "torch.cat((basic_tensor, basic_tensor), dim=0)\n",
        "torch.stack((basic_tensor, basic_tensor), dim=0)\n",
        "torch.chunk(torch.linspace(1, 10, 8), 2)\n",
        "torch.dsplit(basic_3d_tensor,2)\n",
        "torch.column_stack((basic_tensor, basic_tensor))\n",
        "torch.dstack((basic_tensor, basic_tensor))\n",
        "torch.gather(basic_matrix, 1, torch.tensor([[0, 0], [1, 0]]))\n",
        "torch.hsplit(basic_matrix, 2)\n",
        "torch.hstack((basic_tensor, basic_tensor))\n",
        "torch.masked_select(basic_matrix, basic_matrix.ge(5))\n",
        "torch.movedim(basic_matrix, 1, 0)\n",
        "torch.narrow(basic_3d_tensor, 0, 0, 1)\n",
        "torch.permute(basic_3d_tensor, (2, 0, 1))\n",
        "torch.reshape(basic_matrix, (4,1))"
      ],
      "metadata": {
        "colab": {
          "base_uri": "https://localhost:8080/"
        },
        "id": "8AsxDgp1thdl",
        "outputId": "05388d70-e3ba-4f95-c5aa-610a180c2cb8"
      },
      "execution_count": 90,
      "outputs": [
        {
          "output_type": "stream",
          "name": "stderr",
          "text": [
            "<ipython-input-90-cdc55a945da6>:11: UserWarning: torch.range is deprecated and will be removed in a future release because its behavior is inconsistent with Python's range builtin. Instead, use torch.arange, which produces values in [start, end).\n",
            "  torch.range(1,10,1)\n"
          ]
        },
        {
          "output_type": "execute_result",
          "data": {
            "text/plain": [
              "tensor([[2],\n",
              "        [4],\n",
              "        [6],\n",
              "        [8]])"
            ]
          },
          "metadata": {},
          "execution_count": 90
        }
      ]
    }
  ]
}