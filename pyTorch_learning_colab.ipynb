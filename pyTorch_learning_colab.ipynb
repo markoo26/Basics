{
  "nbformat": 4,
  "nbformat_minor": 0,
  "metadata": {
    "colab": {
      "provenance": [],
      "authorship_tag": "ABX9TyMOcUuRmwdifB1B+gZ3nFFI",
      "include_colab_link": true
    },
    "kernelspec": {
      "name": "python3",
      "display_name": "Python 3"
    },
    "language_info": {
      "name": "python"
    }
  },
  "cells": [
    {
      "cell_type": "markdown",
      "metadata": {
        "id": "view-in-github",
        "colab_type": "text"
      },
      "source": [
        "<a href=\"https://colab.research.google.com/github/markoo26/Basics/blob/master/pyTorch_learning_colab.ipynb\" target=\"_parent\"><img src=\"https://colab.research.google.com/assets/colab-badge.svg\" alt=\"Open In Colab\"/></a>"
      ]
    },
    {
      "cell_type": "code",
      "execution_count": 123,
      "metadata": {
        "id": "rXlIh_ZPtY-x"
      },
      "outputs": [],
      "source": [
        "import torch\n",
        "import numpy as np\n",
        "import random"
      ]
    },
    {
      "cell_type": "code",
      "source": [
        "basic_tensor = torch.tensor([1,2,3,4], requires_grad=False)\n",
        "basic_matrix = torch.tensor ([[2,4], [6,8]])\n",
        "basic_3d_tensor = torch.arange(16.0).reshape(2, 2, 4)\n",
        "basic_np_array = np.array([1,2,3,4])"
      ],
      "metadata": {
        "id": "JYoVJKLwtenc"
      },
      "execution_count": 33,
      "outputs": []
    },
    {
      "cell_type": "code",
      "source": [
        "COMMANDS = ['torch.is_tensor', 'torch.is_complex', 'torch.is_floating_point',\n",
        "            'torch.numel', 'torch.zeros', 'torch.zeros_like', 'torch.ones', 'torch.ones_like',\n",
        "            'torch.arange', 'torch.range', 'torch.linspace', 'torch.logspace',\n",
        "            'torch.eye', 'torch.empty', 'torch.full', 'torch.argwhere', 'torch.cat',\n",
        "            'torch.stack', 'torch.chunk', 'torch.dsplit', 'torch.column_stack',\n",
        "            'torch.dstack', 'torch.gather', 'torch.hsplit', 'torch.hstack', 'torch.ge',\n",
        "            'torch.masked_select', 'torch.movedim', 'torch_narrow', 'torch.permute',\n",
        "            'torch.reshape', 'torch.vstack', 'torch.select', 'torch.zeros', 'torch.split',\n",
        "            'torch.squeeze', 'torch.unsqueeze', 'torch.transpose', 'torch.t', 'torch.take',\n",
        "            'torch.take_along_dim', 'torch.split', 'torch.tile', 'torch.unbind', 'torch.unravel_index',\n",
        "            'torch.vsplit', 'torch.vstack', 'torch.where', 'torch.bernoulli', 'torch._uniform',\n",
        "            'torch.multinomial', 'torch.poisson', 'torch.rand', 'torch.randint', 'torch.randperm',\n",
        "            'torch.get_num_threads', '.requires_grad', 'torch.abs', 'torch.add', 'torch.angle',\n",
        "            'torch.bitwise_not', 'torch.clamp', 'torch.deg2rad', 'torch.div', 'torch.exp',\n",
        "            'torch.fix', 'torch.float_power', 'torch.frac', 'torch.gradient', 'torch.ldexp',\n",
        "            'torch.lgamma', 'torch.log10', 'torch.log', 'torch.log1p', 'torch.log2', 'torch.logical_and',\n",
        "            'torch.logit', 'torch.nan_to_num', 'torch.neg', 'torch.pow', 'torch.remainder', 'torch.reciprocal',\n",
        "            'torch.sqrt', 'torch.sign', 'torch.softmax', 'torch.square', 'torch.argmax', 'torch.argmin', 'torch.aminmax',\n",
        "            'torch.dist', 'torch.max', 'torch.logsumexp', 'torch.mean', 'torch.nanmean', 'torch.median', 'torch.mode', 'torch.prod',\n",
        "            'torch.quantile', 'torch.std', 'torch.std_mean']\n",
        "\n",
        "random_commands = random.choices(COMMANDS, k=20)\n",
        "print(f\"Learnt commands [{len(COMMANDS)}]:\")\n",
        "for command in random_commands:\n",
        "  print(\"* \" + command)"
      ],
      "metadata": {
        "colab": {
          "base_uri": "https://localhost:8080/"
        },
        "id": "6sZzNtgIt6jP",
        "outputId": "03428b47-33de-46be-d2f0-355c095082cc"
      },
      "execution_count": 129,
      "outputs": [
        {
          "output_type": "stream",
          "name": "stdout",
          "text": [
            "Learnt commands [100]:\n",
            "* torch.eye\n",
            "* torch_narrow\n",
            "* torch.vstack\n",
            "* torch.unravel_index\n",
            "* torch.poisson\n",
            "* torch.zeros_like\n",
            "* torch.is_complex\n",
            "* torch.take\n",
            "* torch.unravel_index\n",
            "* torch.bitwise_not\n",
            "* torch.softmax\n",
            "* torch.zeros\n",
            "* torch.log1p\n",
            "* torch.poisson\n",
            "* torch.pow\n",
            "* torch.take_along_dim\n",
            "* torch.float_power\n",
            "* torch.select\n",
            "* torch.logit\n",
            "* torch.empty\n"
          ]
        }
      ]
    },
    {
      "cell_type": "code",
      "source": [
        "torch.is_tensor(basic_tensor)\n",
        "torch.is_tensor(basic_np_array)\n",
        "\n",
        "torch.is_complex(basic_tensor)\n",
        "torch.is_floating_point(basic_tensor)\n",
        "torch.numel(basic_tensor)\n",
        "torch.zeros(10)\n",
        "torch.zeros_like(basic_tensor)\n",
        "torch.ones_like(basic_tensor)\n",
        "torch.arange(1,10,1)\n",
        "torch.range(1,10,1)\n",
        "torch.linspace(0, 20, 7)\n",
        "torch.logspace(0, 20, 7)\n",
        "torch.eye(4)\n",
        "torch.empty((3,3))\n",
        "torch.full((3,3), 3)\n",
        "torch.argwhere(torch.zeros(10))\n",
        "torch.cat((basic_tensor, basic_tensor), dim=0)\n",
        "torch.stack((basic_tensor, basic_tensor), dim=0)\n",
        "torch.chunk(torch.linspace(1, 10, 8), 2)\n",
        "torch.dsplit(basic_3d_tensor,2)\n",
        "torch.column_stack((basic_tensor, basic_tensor))\n",
        "torch.dstack((basic_tensor, basic_tensor))\n",
        "torch.gather(basic_matrix, 1, torch.tensor([[0, 0], [1, 0]]))\n",
        "torch.hsplit(basic_matrix, 2)\n",
        "torch.hstack((basic_tensor, basic_tensor))\n",
        "torch.masked_select(basic_matrix, basic_matrix.ge(5))\n",
        "torch.movedim(basic_matrix, 1, 0)\n",
        "torch.narrow(basic_3d_tensor, 0, 0, 1)\n",
        "torch.permute(basic_3d_tensor, (2, 0, 1))\n",
        "torch.reshape(basic_matrix, (4,1))\n",
        "torch.vstack((basic_tensor, basic_tensor))\n",
        "torch.select(basic_matrix, 0, 1)\n",
        "torch.diagonal_scatter(torch.zeros(3,3), torch.ones(2), 1)\n",
        "torch.split(basic_matrix, 1)\n",
        "torch.unsqueeze(basic_tensor, 0)\n",
        "torch.transpose(basic_matrix, 0, 1 )\n",
        "torch.t(basic_matrix)\n",
        "torch.take(basic_matrix, torch.tensor([0,3]))\n",
        "torch.take_along_dim(basic_3d_tensor, indices = torch.tensor([0, 2]))\n",
        "torch.split(basic_matrix, 2)\n",
        "torch.tile(basic_matrix, dims=(2,2))\n",
        "torch.unbind(basic_3d_tensor)\n",
        "# torch.unravel_index(torch.tensor([0, 1, 2, 3, 4, 5]), (3, 2))\n",
        "torch.vsplit(basic_matrix, 2)\n",
        "torch.vstack((basic_matrix, basic_matrix))\n",
        "torch.where(basic_matrix > 4, basic_matrix, torch.ones(2))\n",
        "torch.bernoulli(torch.empty((3,3)).uniform_(0,1))\n",
        "weights = torch.tensor(basic_tensor, dtype=torch.float)\n",
        "torch.multinomial(weights, 4, replacement=True)\n",
        "torch.poisson(basic_matrix.float())\n",
        "torch.rand((3,3,3))\n",
        "torch.randint(1,10, (3,3,2))\n",
        "torch.randn((4,4))\n",
        "torch.randperm(10)\n",
        "torch.get_num_threads()\n",
        "torch.abs(basic_tensor)\n",
        "torch.add(basic_tensor,  basic_tensor)\n",
        "torch.angle(basic_matrix)\n",
        "torch.bitwise_not(basic_matrix)\n",
        "torch.bitwise_xor(torch.tensor([True, True, False]), torch.tensor([False, True, False]))\n",
        "torch.clamp(basic_matrix, min = 3, max = 5)\n",
        "a = torch.tensor([[180.0, -180.0], [360.0, -360.0], [90.0, -90.0]])\n",
        "torch.deg2rad(a)\n",
        "torch.div(basic_tensor, basic_tensor)\n",
        "torch.exp(basic_tensor)\n",
        "torch.fix(torch.linspace(-10, 10, 7))\n",
        "torch.float_power(basic_matrix, 2)\n",
        "torch.frac(torch.linspace(-10, 10, 4))\n",
        "\n",
        "coordinates = (torch.tensor([-2., -1., 1., 4.]),)\n",
        "values = torch.tensor([4., 1., 1., 16.], )\n",
        "torch.gradient(values, spacing = coordinates)\n",
        "torch.ldexp(torch.tensor([2]), basic_matrix)\n",
        "torch.lgamma(basic_matrix)\n",
        "\n",
        "torch.log(basic_tensor)\n",
        "torch.log10(basic_tensor)\n",
        "torch.log1p(basic_tensor)\n",
        "torch.log2(basic_tensor)\n",
        "torch.logical_and(torch.tensor([True, False, True]), torch.tensor([True, False, False]))\n",
        "torch.logit(basic_tensor, eps=3)\n",
        "x = torch.tensor([float('nan'), float('inf'), -float('inf'), 3.14])\n",
        "torch.nan_to_num(x)\n",
        "torch.neg(basic_matrix)\n",
        "torch.pow(basic_matrix, 5)\n",
        "torch.reciprocal(basic_matrix)\n",
        "torch.remainder(basic_matrix, basic_matrix)\n",
        "torch.rsqrt(basic_matrix)\n",
        "torch.sign(torch.randn(10))\n",
        "torch.softmax(torch.tensor([1.0,2.0,3.0,4.0]), 0)\n",
        "torch.square(basic_matrix)\n",
        "torch.argmax(basic_matrix, dim=0)\n",
        "torch.argmin(basic_3d_tensor,dim=2)\n",
        "torch.aminmax(basic_3d_tensor)\n",
        "torch.dist(torch.rand(4), torch.rand(4), 3.5)\n",
        "torch.max(basic_3d_tensor)\n",
        "torch.logsumexp(basic_3d_tensor,1)\n",
        "torch.mean(basic_tensor.float())\n",
        "torch.nanmean(basic_tensor.float())\n",
        "torch.median(basic_3d_tensor, dim=1)\n",
        "torch.mode(basic_matrix)\n",
        "torch.prod(basic_matrix)\n",
        "torch.quantile(basic_3d_tensor, torch.tensor([0.25, 0.5, 0.9]), interpolation='nearest')\n",
        "torch.std(basic_3d_tensor, dim=0)\n",
        "torch.std_mean(basic_3d_tensor, dim=1)"
      ],
      "metadata": {
        "colab": {
          "base_uri": "https://localhost:8080/"
        },
        "id": "8AsxDgp1thdl",
        "outputId": "950e11f5-1ad3-4514-bb56-f5978c2546a8"
      },
      "execution_count": 121,
      "outputs": [
        {
          "output_type": "stream",
          "name": "stderr",
          "text": [
            "<ipython-input-121-e1365fe1bb1a>:11: UserWarning: torch.range is deprecated and will be removed in a future release because its behavior is inconsistent with Python's range builtin. Instead, use torch.arange, which produces values in [start, end).\n",
            "  torch.range(1,10,1)\n",
            "<ipython-input-121-e1365fe1bb1a>:49: UserWarning: To copy construct from a tensor, it is recommended to use sourceTensor.clone().detach() or sourceTensor.clone().detach().requires_grad_(True), rather than torch.tensor(sourceTensor).\n",
            "  weights = torch.tensor(basic_tensor, dtype=torch.float)\n"
          ]
        },
        {
          "output_type": "execute_result",
          "data": {
            "text/plain": [
              "(tensor([[2.8284, 2.8284, 2.8284, 2.8284],\n",
              "         [2.8284, 2.8284, 2.8284, 2.8284]]),\n",
              " tensor([[ 2.,  3.,  4.,  5.],\n",
              "         [10., 11., 12., 13.]]))"
            ]
          },
          "metadata": {},
          "execution_count": 121
        }
      ]
    }
  ]
}